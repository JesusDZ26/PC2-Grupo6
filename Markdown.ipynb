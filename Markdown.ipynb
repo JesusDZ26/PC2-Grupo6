{
 "cells": [
  {
   "cell_type": "markdown",
   "metadata": {},
   "source": [
    "<h1><center> <span style=\"color:Brown;\"> CANCER DE PULMÓN </span></center></h1>\n",
    "El cáncer de pulmón es un tipo de cáncer que comienza en los pulmones. Los pulmones son dos órganos esponjosos ubicados en el tórax que toman oxígeno cuando inhalas y liberan dióxido de carbono cuando exhalas.\n",
    "\n",
    "El cáncer de pulmón es la principal causa de muerte por cáncer en todo el mundo.\n",
    "\n",
    "<b> Las personas que fuman tienen el mayor riesgo de presentar cáncer de pulmón </b> , aunque el cáncer de pulmón también puede ocurrir en personas que nunca han fumado. Este aumenta con la cantidad de cigarrillos y la cantidad de tiempo que hayas fumado. Si dejas de fumar, incluso después de haber fumado durante muchos años, puedes disminuir de manera significativa las posibilidades de contraer cáncer de pulmón."
   ]
  },
  {
   "cell_type": "markdown",
   "metadata": {},
   "source": [
    "![contraste](https://as.com/deporteyvida/imagenes/2018/11/26/portada/1543246548_799577_1543246673_noticia_normal.jpg)"
   ]
  },
  {
   "cell_type": "markdown",
   "metadata": {},
   "source": [
    "**<h2>Algunos sintomas:</h2>**\n",
    "\n",
    "El cáncer de pulmón en general no produce signos ni síntomas en los primeros estadios. Los signos y síntomas del cáncer de pulmón suelen aparecer cuando la enfermedad está avanzada.\n",
    "\n",
    "Los signos y síntomas del cáncer de pulmón pueden ser:\n",
    "\n",
    "- Una tos reciente que no se va\n",
    "- Tos con sangre, incluso en pequeñas cantidades\n",
    "- Falta de aire\n",
    "- Dolor en el pecho\n",
    "- Ronquera\n",
    "- Pérdida de peso sin intentarlo\n",
    "- Dolor de huesos\n",
    "- Dolor de cabeza"
   ]
  },
  {
   "cell_type": "markdown",
   "metadata": {},
   "source": [
    "**<h2>¿Cómo se diagnostica el cáncer de pulmón?</h2>**\n",
    "\n",
    "Para hacer un diagnóstico, su profesional de la salud:\n",
    "\n",
    "- Le preguntará acerca de su historial médico y antecedentes familiares\n",
    "- Hará un examen físico\n",
    "- Probablemente realizará pruebas de imagen, como una radiografía de tórax o una tomografía computarizada de tórax\n",
    "- Puede realizar análisis de laboratorio, incluyendo análisis de sangre y [esputo](https://www.rae.es/drae2001/esputo)\n",
    "- Puede pedir una biopsia del pulmón\n",
    "\n",
    "Si tiene cáncer de pulmón, su proveedor realizará otras pruebas para determinar cuánto se ha propagado a través de los pulmones, los ganglios linfáticos y el resto del cuerpo. Esto se llama estadificación. Conocer el tipo y el estadio del cáncer de pulmón que tiene ayuda a su proveedor a decidir qué tipo de tratamiento necesita.\n",
    "\n",
    "**<h2> ¿Cuáles son los tratamientos para el cáncer de pulmón?</h2>**\n",
    "Para la mayoría de los pacientes con cáncer de pulmón, los tratamientos actuales no curan el cáncer.\n",
    "\n",
    "Su tratamiento dependerá del tipo de cáncer de pulmón que tenga, hasta qué punto se ha propagado, su salud general y otros factores. Puede recibir más de un tipo de tratamiento.\n",
    "\n",
    "Los tratamientos para el cáncer de pulmón de células pequeñas incluyen:\n",
    "\n",
    "- Cirugía\n",
    "- Quimioterapia\n",
    "- Radioterapia\n",
    "- Inmunoterapia\n",
    "- Terapia con láser, que utiliza un rayo láser para eliminar las células cancerosas\n",
    "- Colocación de stent endoscópico: Un endoscopio es un instrumento delgado en forma de tubo que se usa para observar tejidos dentro del cuerpo. Se puede usar para colocar un dispositivo llamado stent. El stent ayuda a abrir una vía aérea que ha sido bloqueada por tejido anormal\n",
    "\n",
    "Los tratamientos para el cáncer de pulmón de células no pequeñas incluyen:\n",
    "\n",
    "- Cirugía\n",
    "- Radioterapia\n",
    "- Quimioterapia\n",
    "- Terapia dirigida: Utiliza medicamentos u otras sustancias que atacan células cancerosas específicas con menor daño a las células normales\n",
    "- Inmunoterapia\n",
    "- Terapia con láser\n",
    "- Terapia fotodinámica: Utiliza un medicamento y un cierto tipo de luz láser para eliminar las células cancerosas\n",
    "- Criocirugía: Utiliza un instrumento para congelar y destruir tejido anormal\n",
    "- Electrocauterización: Tratamiento que utiliza una sonda o aguja calentada por una corriente eléctrica para destruir tejido anormal\n",
    "\n",
    "**<h2>¿Se puede prevenir el cáncer de pulmón?</h2>**\n",
    "\n",
    "Evitar los factores de riesgo puede ayudar a prevenir el cáncer de pulmón:\n",
    "\n",
    "- Deje de fumar. Si no fuma, no empiece\n",
    "- Disminuya su exposición a sustancias peligrosas en el trabajo\n",
    "- Disminuya su exposición al [radón](https://www.who.int/es/news-room/fact-sheets/detail/radon-and-health) (elemento químico perteneciente al grupo de los gases nobles). Las pruebas de radón pueden mostrar si su hogar tiene altos niveles de este gas. Puede comprar un kit de prueba usted mismo o contratar a un profesional para que haga la prueba"
   ]
  },
  {
   "cell_type": "markdown",
   "metadata": {},
   "source": [
    "### Para más información puede ingrerar a los siguientes enlaces\n",
    "- [Medline plus](https://medlineplus.gov/spanish/lungcancer.html)\n",
    "- [Cuidate Plus](https://cuidateplus.marca.com/enfermedades/cancer/cancer-pulmon.html)\n",
    "- [Organización Mundial de la Salud](https://www.who.int/es/news-room/fact-sheets/detail/radon-and-health)"
   ]
  },
  {
   "cell_type": "markdown",
   "metadata": {},
   "source": [
    "### Referencias Bibliograficas\n",
    "- U.S. National Library of Medicine 8600 Rockville Pike, Bethesda, MD 20894 U.S. Department of Health and Human Services National Institutes of Health (3 marzo 2021)\n",
    "- Unidad Editorial Revistas, S.L.U. (2021)\n",
    "- Guías para la calidad del agua de consumo humano. Cuarta edición que incorpora la primera adenda. Ginebra, OMS (2011).\n",
    "- Control de la radiactividad en el agua potable (en inglés). Ginebra, OMS (2018).\n",
    "- Manual de la OMS sobre el radón en interiores: una perspectiva de salud pública. Ginebra, OMS (2009).\n",
    "- Protección radiológica y seguridad de las fuentes de radiación: Normas Básicas Internacionales de Seguridad. Viena, OIEA (2014).\n",
    "- Observatorio Mundial de la Salud de la OMS: Base de datos sobre el radón en las políticas y reglamentos nacionales (en inglés)."
   ]
  }
 ],
 "metadata": {
  "kernelspec": {
   "display_name": "Python 3",
   "language": "python",
   "name": "python3"
  },
  "language_info": {
   "codemirror_mode": {
    "name": "ipython",
    "version": 3
   },
   "file_extension": ".py",
   "mimetype": "text/x-python",
   "name": "python",
   "nbconvert_exporter": "python",
   "pygments_lexer": "ipython3",
   "version": "3.8.5"
  }
 },
 "nbformat": 4,
 "nbformat_minor": 4
}
